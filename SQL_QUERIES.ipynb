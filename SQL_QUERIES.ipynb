{
  "nbformat": 4,
  "nbformat_minor": 0,
  "metadata": {
    "colab": {
      "provenance": [],
      "gpuType": "T4"
    },
    "kernelspec": {
      "name": "python3",
      "display_name": "Python 3"
    },
    "language_info": {
      "name": "python"
    },
    "accelerator": "GPU"
  },
  "cells": [
    {
      "cell_type": "markdown",
      "source": [
        "## SQL Notes - Harshita Uppalpati\n",
        "***DDL(Data Definition Language)***\n"
      ],
      "metadata": {
        "id": "gVMXlSJ5ZM7B"
      }
    },
    {
      "cell_type": "markdown",
      "source": [
        "● CREATE TABLE:\n"
      ],
      "metadata": {
        "id": "uOUA-7pqZkxy"
      }
    },
    {
      "cell_type": "code",
      "source": [
        "CREATE TABLE employees (id INT PRIMARY KEY, name VARCHAR(50),\n",
        "salary DECIMAL(10, 2));"
      ],
      "metadata": {
        "id": "gaj9zXFYZUmG"
      },
      "execution_count": null,
      "outputs": []
    },
    {
      "cell_type": "markdown",
      "source": [
        "● ALTER TABLE:"
      ],
      "metadata": {
        "id": "X4CnkMeCZsta"
      }
    },
    {
      "cell_type": "code",
      "source": [
        "ALTER TABLE employees ADD COLUMN email VARCHAR(100);"
      ],
      "metadata": {
        "id": "5lmW5PXqZi2r"
      },
      "execution_count": null,
      "outputs": []
    },
    {
      "cell_type": "markdown",
      "source": [
        "● DROP TABLE:"
      ],
      "metadata": {
        "id": "CLGDiYL3Z0lI"
      }
    },
    {
      "cell_type": "code",
      "source": [
        "DROP TABLE employees;"
      ],
      "metadata": {
        "id": "zxdg7FsjaCuv"
      },
      "execution_count": null,
      "outputs": []
    },
    {
      "cell_type": "markdown",
      "source": [
        "● TRUNCATE TABLE:"
      ],
      "metadata": {
        "id": "Xgekc5imaLFZ"
      }
    },
    {
      "cell_type": "code",
      "source": [
        "TRUNCATE TABLE table_name"
      ],
      "metadata": {
        "id": "CyejEz8UaMMp"
      },
      "execution_count": null,
      "outputs": []
    },
    {
      "cell_type": "markdown",
      "source": [
        "**DATA QUERY/RETRIEVAL LANGUAGE (DQL or DRL)**"
      ],
      "metadata": {
        "id": "j9GVENRbaR0S"
      }
    },
    {
      "cell_type": "markdown",
      "source": [
        "● SELECT:"
      ],
      "metadata": {
        "id": "kGy8x9dxaWNt"
      }
    },
    {
      "cell_type": "code",
      "source": [
        "SELECT CustomerName, City FROM Customers;"
      ],
      "metadata": {
        "id": "REJ77Ug2aZ1u"
      },
      "execution_count": null,
      "outputs": []
    },
    {
      "cell_type": "markdown",
      "source": [
        "**DML{DATA MANIPULATION LANGUAGE}**"
      ],
      "metadata": {
        "id": "8DZQuAamaqKc"
      }
    },
    {
      "cell_type": "markdown",
      "source": [
        "● INSERT:"
      ],
      "metadata": {
        "id": "fc_p0qcHax1R"
      }
    },
    {
      "cell_type": "code",
      "source": [
        "INSERT INTO employees (first_name, last_name, salary) VALUES ('John',\n",
        "'Doe', 50000);"
      ],
      "metadata": {
        "id": "Ip474TqMa2bf"
      },
      "execution_count": null,
      "outputs": []
    },
    {
      "cell_type": "markdown",
      "source": [
        "● UPDATE:"
      ],
      "metadata": {
        "id": "szLu-eNabAw2"
      }
    },
    {
      "cell_type": "code",
      "source": [
        "UPDATE employees SET salary = 55000 WHERE first_name = 'John';"
      ],
      "metadata": {
        "id": "6YfVn0gMbB-I"
      },
      "execution_count": null,
      "outputs": []
    },
    {
      "cell_type": "markdown",
      "source": [
        "● DELETE:"
      ],
      "metadata": {
        "id": "FVggh33wbE8U"
      }
    },
    {
      "cell_type": "code",
      "source": [
        "DELETE FROM employees WHERE last_name = 'Doe';"
      ],
      "metadata": {
        "id": "YTECaEmebH3j"
      },
      "execution_count": null,
      "outputs": []
    },
    {
      "cell_type": "markdown",
      "source": [
        "● WHERE:\n",
        "\n",
        "* Operators used in WHERE are:\n",
        "= : Equal\n",
        "> : Greater than\n",
        "< : Less than\n",
        ">= : Greater than or equal\n",
        "<= : Less than or equal\n",
        "<> : Not equal.\n",
        "\n",
        "\n"
      ],
      "metadata": {
        "id": "9O_XrrGid3JE"
      }
    },
    {
      "cell_type": "code",
      "source": [
        "SELECT * FROM Customers WHERE Country='Mexico';"
      ],
      "metadata": {
        "id": "G8ZjOIoGd53e"
      },
      "execution_count": null,
      "outputs": []
    },
    {
      "cell_type": "markdown",
      "source": [
        "● AND, OR and NOT:"
      ],
      "metadata": {
        "id": "IkrsiOACd8qB"
      }
    },
    {
      "cell_type": "code",
      "source": [
        "SELECT * FROM Customers WHERE Country='India' AND City='Japan';"
      ],
      "metadata": {
        "id": "loKfIF9geROC"
      },
      "execution_count": null,
      "outputs": []
    },
    {
      "cell_type": "code",
      "source": [
        "SELECT * FROM Customers WHERE Country='America' AND (City='India' OR\n",
        "City='Korea');"
      ],
      "metadata": {
        "id": "h8FyF6x0eVsX"
      },
      "execution_count": null,
      "outputs": []
    },
    {
      "cell_type": "markdown",
      "source": [
        "● DISTINCT:"
      ],
      "metadata": {
        "id": "GnAKeVwZeiQx"
      }
    },
    {
      "cell_type": "code",
      "source": [
        "SELECT DISTINCT column1, column2 FROM table_name;"
      ],
      "metadata": {
        "id": "M7BdfEjielwa"
      },
      "execution_count": null,
      "outputs": []
    },
    {
      "cell_type": "markdown",
      "source": [
        "● LIKE:"
      ],
      "metadata": {
        "id": "ljEVbNGgenHO"
      }
    },
    {
      "cell_type": "code",
      "source": [
        "SELECT * FROM employees WHERE first_name LIKE 'J%';"
      ],
      "metadata": {
        "id": "DHSETvQsepqu"
      },
      "execution_count": null,
      "outputs": []
    },
    {
      "cell_type": "markdown",
      "source": [
        "● IN:"
      ],
      "metadata": {
        "id": "lSY513EqevHn"
      }
    },
    {
      "cell_type": "code",
      "source": [
        "SELECT * FROM products WHERE category_id IN (1, 2, 3);"
      ],
      "metadata": {
        "id": "Y4J29Ogaezix"
      },
      "execution_count": null,
      "outputs": []
    },
    {
      "cell_type": "markdown",
      "source": [
        "● BETWEEN:"
      ],
      "metadata": {
        "id": "fFLSug3ce3v8"
      }
    },
    {
      "cell_type": "code",
      "source": [
        "SELECT * FROM orders WHERE order_date BETWEEN '2023-01-01' AND\n",
        "'2023-06-30';"
      ],
      "metadata": {
        "id": "5w1UKC3Oe48d"
      },
      "execution_count": null,
      "outputs": []
    },
    {
      "cell_type": "markdown",
      "source": [
        "● IS NULL:"
      ],
      "metadata": {
        "id": "4XX9psdce7Nk"
      }
    },
    {
      "cell_type": "code",
      "source": [
        "SELECT * FROM customers WHERE email IS NULL;"
      ],
      "metadata": {
        "id": "Pvk6RWIDe_X3"
      },
      "execution_count": null,
      "outputs": []
    },
    {
      "cell_type": "markdown",
      "source": [
        "● AS:"
      ],
      "metadata": {
        "id": "30RuVQOsfCjp"
      }
    },
    {
      "cell_type": "code",
      "source": [
        "SELECT first_name AS \"First Name\", last_name AS \"Last Name\" FROM\n",
        "employees;"
      ],
      "metadata": {
        "id": "HnFtVMETfFAW"
      },
      "execution_count": null,
      "outputs": []
    },
    {
      "cell_type": "markdown",
      "source": [
        "● ORDER BY:"
      ],
      "metadata": {
        "id": "xTPiPlIufHuS"
      }
    },
    {
      "cell_type": "code",
      "source": [
        "SELECT column1, column2 FROM table_name ORDER BY column1\n",
        "[ASC|DESC];"
      ],
      "metadata": {
        "id": "amCMeK26fKgm"
      },
      "execution_count": null,
      "outputs": []
    },
    {
      "cell_type": "markdown",
      "source": [
        "● GROUP BY"
      ],
      "metadata": {
        "id": "Njw5VKanfRPk"
      }
    },
    {
      "cell_type": "code",
      "source": [
        "SELECT column1, aggregate_function(column2) FROM table_name\n",
        "GROUP BY column1;"
      ],
      "metadata": {
        "id": "SXxDFUdMfScT"
      },
      "execution_count": null,
      "outputs": []
    },
    {
      "cell_type": "markdown",
      "source": [
        "● AGGREGATE FUNCTIONS\n",
        "\n",
        "\n",
        "\n",
        "*  Common Aggregate Functions:\n",
        "- COUNT():\n",
        "Counts the number of rows in a group or result set.\n",
        "- SUM():\n",
        "Calculates the sum of numeric values in a group or result set.\n",
        "- AVG():\n",
        "\n",
        "Computes the average of numeric values in a group or result set.\n",
        "- MAX():\n",
        "Finds the maximum value in a group or result set.\n",
        "- MIN():\n",
        "Retrieves the minimum value in a group or result set.\n"
      ],
      "metadata": {
        "id": "G7tqIQ93fYTE"
      }
    },
    {
      "cell_type": "code",
      "source": [
        "SELECT department, COUNT(*) FROM employees GROUP BY department ORDER BY COUNT(*) DESC;"
      ],
      "metadata": {
        "id": "UZOl9HXCfZRz"
      },
      "execution_count": null,
      "outputs": []
    },
    {
      "cell_type": "markdown",
      "source": [
        "**DCL (Data Control Language)t**"
      ],
      "metadata": {
        "id": "90zwtmxzbOZ1"
      }
    },
    {
      "cell_type": "markdown",
      "source": [
        "1. GRANT:"
      ],
      "metadata": {
        "id": "MuGtvi2ubTAu"
      }
    },
    {
      "cell_type": "code",
      "source": [
        "GRANT SELECT ON Employees TO Analyst;"
      ],
      "metadata": {
        "id": "OrkTV3yXbhuJ"
      },
      "execution_count": null,
      "outputs": []
    },
    {
      "cell_type": "markdown",
      "source": [
        "2. REVOKE:"
      ],
      "metadata": {
        "id": "DcB2L25Ibnvv"
      }
    },
    {
      "cell_type": "code",
      "source": [
        "REVOKE SELECT ON Employees FROM Analyst;"
      ],
      "metadata": {
        "id": "7u-07xJebqBJ"
      },
      "execution_count": null,
      "outputs": []
    },
    {
      "cell_type": "markdown",
      "source": [
        "**TCL (Transaction Control Language)**"
      ],
      "metadata": {
        "id": "Y-hXyP2Bbv1P"
      }
    },
    {
      "cell_type": "markdown",
      "source": [
        "1. COMMIT:"
      ],
      "metadata": {
        "id": "03gC3YiRbwQW"
      }
    },
    {
      "cell_type": "code",
      "source": [
        "UPDATE Employees\n",
        "SET Salary = Salary * 1.10\n",
        "WHERE Department = 'Sales';"
      ],
      "metadata": {
        "id": "nQZgC84icD83"
      },
      "execution_count": null,
      "outputs": []
    },
    {
      "cell_type": "markdown",
      "source": [
        "2. ROLLBACK:"
      ],
      "metadata": {
        "id": "eLkof-dMbxRX"
      }
    },
    {
      "cell_type": "code",
      "source": [
        "UPDATE Inventory\n",
        "SET Quantity = Quantity - 10\n",
        "WHERE ProductID = 101;"
      ],
      "metadata": {
        "id": "y4O-ZrfCcE7X"
      },
      "execution_count": null,
      "outputs": []
    },
    {
      "cell_type": "markdown",
      "source": [
        "3. SAVEPOINT:"
      ],
      "metadata": {
        "id": "fXunO1O8bxok"
      }
    },
    {
      "cell_type": "code",
      "source": [
        "UPDATE Accounts\n",
        "SET Balance = Balance - 100\n",
        "WHERE AccountID = 123;"
      ],
      "metadata": {
        "id": "atNHbZkzdFy9"
      },
      "execution_count": null,
      "outputs": []
    },
    {
      "cell_type": "code",
      "source": [
        "SAVEPOINT before_withdrawal;"
      ],
      "metadata": {
        "id": "9BwjEzRvc2YM"
      },
      "execution_count": null,
      "outputs": []
    },
    {
      "cell_type": "code",
      "source": [
        "UPDATE Accounts\n",
        "SET Balance = Balance + 100\n",
        "WHERE AccountID = 456;"
      ],
      "metadata": {
        "id": "9quACjQmc4Nh"
      },
      "execution_count": null,
      "outputs": []
    },
    {
      "cell_type": "code",
      "source": [
        "ROLLBACK TO before_withdrawal;"
      ],
      "metadata": {
        "id": "uqkHsM_uc6bQ"
      },
      "execution_count": null,
      "outputs": []
    },
    {
      "cell_type": "code",
      "source": [
        "COMMIT;"
      ],
      "metadata": {
        "id": "yt6KcOyYfxzW"
      },
      "execution_count": null,
      "outputs": []
    },
    {
      "cell_type": "markdown",
      "source": [
        "**JOINS**"
      ],
      "metadata": {
        "id": "X5PZP1ffcO6N"
      }
    },
    {
      "cell_type": "markdown",
      "source": [
        "1.Inner Join:"
      ],
      "metadata": {
        "id": "YtKuLHdOf6zf"
      }
    },
    {
      "cell_type": "code",
      "source": [
        "SELECT Customers.CustomerName, Orders.Product\n",
        "FROM Customers\n",
        "INNER JOIN Orders ON Customers.CustomerID = Orders.CustomerID;"
      ],
      "metadata": {
        "id": "bFeLv7WWhAj1"
      },
      "execution_count": null,
      "outputs": []
    },
    {
      "cell_type": "markdown",
      "source": [
        "2. Left Outer Join (Left Join):"
      ],
      "metadata": {
        "id": "oKSS4SGHgkM9"
      }
    },
    {
      "cell_type": "code",
      "source": [
        "SELECT Customers.CustomerName, Orders.Product\n",
        "FROM Customers\n",
        "LEFT JOIN Orders ON Customers.CustomerID = Orders.CustomerID;"
      ],
      "metadata": {
        "id": "dGRSKleMhCU6"
      },
      "execution_count": null,
      "outputs": []
    },
    {
      "cell_type": "markdown",
      "source": [
        "3. Right Outer Join (Right Join):"
      ],
      "metadata": {
        "id": "ffrthuGaf96t"
      }
    },
    {
      "cell_type": "code",
      "source": [
        "SELECT Customers.CustomerName, Orders.Product\n",
        "FROM Customers\n",
        "RIGHT JOIN Orders ON Customers.CustomerID = Orders.CustomerID;"
      ],
      "metadata": {
        "id": "gDZq_ME4hKMf"
      },
      "execution_count": null,
      "outputs": []
    },
    {
      "cell_type": "markdown",
      "source": [
        "4. Full Outer Join (Full Join):"
      ],
      "metadata": {
        "id": "BGAvuEOJf-an"
      }
    },
    {
      "cell_type": "code",
      "source": [
        "SELECT Customers.CustomerName, Orders.Product\n",
        "FROM Customers\n",
        "FULL OUTER JOIN Orders ON Customers.CustomerID = Orders.CustomerID;"
      ],
      "metadata": {
        "id": "bVdIF5ighM9p"
      },
      "execution_count": null,
      "outputs": []
    },
    {
      "cell_type": "markdown",
      "source": [
        "4. Self Join"
      ],
      "metadata": {
        "id": "9lN0yGbff-3v"
      }
    },
    {
      "cell_type": "code",
      "source": [
        "SELECT e1.EmployeeName AS Employee, e2.EmployeeName AS Manager\n",
        "FROM Employees AS e1\n",
        "JOIN Employees AS e2 ON e1.ManagerID = e2.EmployeeID;"
      ],
      "metadata": {
        "id": "jDR29W71hbhR"
      },
      "execution_count": null,
      "outputs": []
    }
  ]
}